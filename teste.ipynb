{
 "cells": [
  {
   "cell_type": "code",
   "execution_count": 13,
   "metadata": {},
   "outputs": [],
   "source": [
    "import pandas as pd"
   ]
  },
  {
   "cell_type": "code",
   "execution_count": 18,
   "metadata": {},
   "outputs": [
    {
     "data": {
      "text/html": [
       "<div>\n",
       "<style scoped>\n",
       "    .dataframe tbody tr th:only-of-type {\n",
       "        vertical-align: middle;\n",
       "    }\n",
       "\n",
       "    .dataframe tbody tr th {\n",
       "        vertical-align: top;\n",
       "    }\n",
       "\n",
       "    .dataframe thead th {\n",
       "        text-align: right;\n",
       "    }\n",
       "</style>\n",
       "<table border=\"1\" class=\"dataframe\">\n",
       "  <thead>\n",
       "    <tr style=\"text-align: right;\">\n",
       "      <th></th>\n",
       "      <th>['06b8999e2fba1a1fbc88172c00ba8bc7'</th>\n",
       "      <th>'861eff4711a542e4b93843c6dd7febb0'</th>\n",
       "      <th>'14409']</th>\n",
       "    </tr>\n",
       "  </thead>\n",
       "  <tbody>\n",
       "    <tr>\n",
       "      <th>0</th>\n",
       "      <td>['18955e83d337fd6b2def6b18a428ac77'</td>\n",
       "      <td>'290c77bc529b7ac935b93aa66c333dc3'</td>\n",
       "      <td>'09790']</td>\n",
       "    </tr>\n",
       "    <tr>\n",
       "      <th>1</th>\n",
       "      <td>['4e7b3e00288586ebd08712fdd0374a03'</td>\n",
       "      <td>'060e732b5b29e8181a18229c7b0b2b5e'</td>\n",
       "      <td>'01151']</td>\n",
       "    </tr>\n",
       "    <tr>\n",
       "      <th>2</th>\n",
       "      <td>['b2b6027bc5c5109e529d4dc6358b12c3'</td>\n",
       "      <td>'259dac757896d24d7702b9acbbff3f3c'</td>\n",
       "      <td>'08775']</td>\n",
       "    </tr>\n",
       "    <tr>\n",
       "      <th>3</th>\n",
       "      <td>['4f2d8ab171c80ec8364f7c12e35b23ad'</td>\n",
       "      <td>'345ecd01c38d18a9036ed96c73b8d066'</td>\n",
       "      <td>'13056']</td>\n",
       "    </tr>\n",
       "    <tr>\n",
       "      <th>4</th>\n",
       "      <td>['879864dab9bc3047522c92c82e1212b8'</td>\n",
       "      <td>'4c93744516667ad3b8f1fb645a3116a4'</td>\n",
       "      <td>'89254']</td>\n",
       "    </tr>\n",
       "    <tr>\n",
       "      <th>5</th>\n",
       "      <td>['fd826e7cf63160e536e0908c76c3f441'</td>\n",
       "      <td>'addec96d2e059c80c30fe6871d30d177'</td>\n",
       "      <td>'04534']</td>\n",
       "    </tr>\n",
       "    <tr>\n",
       "      <th>6</th>\n",
       "      <td>['5e274e7a0c3809e14aba7ad5aae0d407'</td>\n",
       "      <td>'57b2a98a409812fe9618067b6b8ebe4f'</td>\n",
       "      <td>'35182']</td>\n",
       "    </tr>\n",
       "    <tr>\n",
       "      <th>7</th>\n",
       "      <td>['5adf08e34b2e993982a47070956c5c65'</td>\n",
       "      <td>'1175e95fb47ddff9de6b2b06188f7e0d'</td>\n",
       "      <td>'81560']</td>\n",
       "    </tr>\n",
       "    <tr>\n",
       "      <th>8</th>\n",
       "      <td>['4b7139f34592b3a31687243a302fa75b'</td>\n",
       "      <td>'9afe194fb833f79e300e37e580171f22'</td>\n",
       "      <td>'30575']</td>\n",
       "    </tr>\n",
       "  </tbody>\n",
       "</table>\n",
       "</div>"
      ],
      "text/plain": [
       "   ['06b8999e2fba1a1fbc88172c00ba8bc7'   '861eff4711a542e4b93843c6dd7febb0'  \\\n",
       "0  ['18955e83d337fd6b2def6b18a428ac77'   '290c77bc529b7ac935b93aa66c333dc3'   \n",
       "1  ['4e7b3e00288586ebd08712fdd0374a03'   '060e732b5b29e8181a18229c7b0b2b5e'   \n",
       "2  ['b2b6027bc5c5109e529d4dc6358b12c3'   '259dac757896d24d7702b9acbbff3f3c'   \n",
       "3  ['4f2d8ab171c80ec8364f7c12e35b23ad'   '345ecd01c38d18a9036ed96c73b8d066'   \n",
       "4  ['879864dab9bc3047522c92c82e1212b8'   '4c93744516667ad3b8f1fb645a3116a4'   \n",
       "5  ['fd826e7cf63160e536e0908c76c3f441'   'addec96d2e059c80c30fe6871d30d177'   \n",
       "6  ['5e274e7a0c3809e14aba7ad5aae0d407'   '57b2a98a409812fe9618067b6b8ebe4f'   \n",
       "7  ['5adf08e34b2e993982a47070956c5c65'   '1175e95fb47ddff9de6b2b06188f7e0d'   \n",
       "8  ['4b7139f34592b3a31687243a302fa75b'   '9afe194fb833f79e300e37e580171f22'   \n",
       "\n",
       "    '14409']  \n",
       "0   '09790']  \n",
       "1   '01151']  \n",
       "2   '08775']  \n",
       "3   '13056']  \n",
       "4   '89254']  \n",
       "5   '04534']  \n",
       "6   '35182']  \n",
       "7   '81560']  \n",
       "8   '30575']  "
      ]
     },
     "execution_count": 18,
     "metadata": {},
     "output_type": "execute_result"
    }
   ],
   "source": [
    "lista = ('/home/michel/Documentos/Engenharia de Dados com Google Dataflow e Apache Beam na GCP/meu_teste.csv')\n",
    "df = df\n",
    "df"
   ]
  },
  {
   "cell_type": "code",
   "execution_count": 27,
   "metadata": {},
   "outputs": [
    {
     "name": "stdout",
     "output_type": "stream",
     "text": [
      "['06b8999e2fba1a1fbc88172c00ba8bc7'\n",
      "['18955e83d337fd6b2def6b18a428ac77'\n",
      "['4e7b3e00288586ebd08712fdd0374a03'\n",
      "['b2b6027bc5c5109e529d4dc6358b12c3'\n",
      "['4f2d8ab171c80ec8364f7c12e35b23ad'\n",
      "['879864dab9bc3047522c92c82e1212b8'\n",
      "['fd826e7cf63160e536e0908c76c3f441'\n",
      "['5e274e7a0c3809e14aba7ad5aae0d407'\n",
      "['5adf08e34b2e993982a47070956c5c65'\n",
      "['4b7139f34592b3a31687243a302fa75b'\n"
     ]
    }
   ],
   "source": [
    "import csv\n",
    "with open('/home/michel/Documentos/Engenharia de Dados com Google Dataflow e Apache Beam na GCP/meu_teste.csv', 'r') as file:\n",
    "    # Cria um objeto leitor de CSV\n",
    "    reader = csv.reader(file)\n",
    "\n",
    "    # Itera sobre as linhas do arquivo\n",
    "    for row in reader:\n",
    "        print(row[0])"
   ]
  },
  {
   "cell_type": "code",
   "execution_count": 24,
   "metadata": {},
   "outputs": [
    {
     "data": {
      "text/plain": [
       "[{'[': \"'06b8999e2fba1a1fbc88172c00ba8bc7'\", ' ': \"'14409']\"}]"
      ]
     },
     "execution_count": 24,
     "metadata": {},
     "output_type": "execute_result"
    }
   ],
   "source": [
    "def tranforma():\n",
    "        for i in range(len(df)):\n",
    "            keys = [item[0] for item in df]\n",
    "            values = [item[1:] for item in df]\n",
    "            return [(dict(zip(keys, values)))]\n",
    "tranforma()"
   ]
  }
 ],
 "metadata": {
  "kernelspec": {
   "display_name": "Python 3",
   "language": "python",
   "name": "python3"
  },
  "language_info": {
   "codemirror_mode": {
    "name": "ipython",
    "version": 3
   },
   "file_extension": ".py",
   "mimetype": "text/x-python",
   "name": "python",
   "nbconvert_exporter": "python",
   "pygments_lexer": "ipython3",
   "version": "3.10.6"
  },
  "orig_nbformat": 4
 },
 "nbformat": 4,
 "nbformat_minor": 2
}
